{
 "cells": [
  {
   "cell_type": "markdown",
   "metadata": {},
   "source": [
    "# Red Inicial"
   ]
  },
  {
   "cell_type": "markdown",
   "metadata": {},
   "source": [
    "## Imports"
   ]
  },
  {
   "cell_type": "code",
   "execution_count": 5,
   "metadata": {},
   "outputs": [],
   "source": [
    "from collections import deque\n",
    "from enum import Enum\n",
    "from functools import cache\n",
    "from typing import Optional\n",
    "\n",
    "import gymnasium as gym\n",
    "import numpy as np\n",
    "from gymnasium.spaces import Box, Dict"
   ]
  },
  {
   "cell_type": "markdown",
   "metadata": {},
   "source": [
    "## Clases y Funciones"
   ]
  },
  {
   "cell_type": "code",
   "execution_count": 6,
   "metadata": {},
   "outputs": [
    {
     "name": "stdout",
     "output_type": "stream",
     "text": [
      "[{'IP': 17, 'PORT': 1060, 'PROTOCOL': 62, 'SIZE': 36356}, {'IP': 17, 'PORT': 89, 'PROTOCOL': 16, 'SIZE': 57266}, {'IP': 17, 'PORT': 681, 'PROTOCOL': 82, 'SIZE': 20907}, {'IP': 17, 'PORT': 2939, 'PROTOCOL': 69, 'SIZE': 24733}, {'IP': 17, 'PORT': 727, 'PROTOCOL': 16, 'SIZE': 62577}, {'IP': 17, 'PORT': 85, 'PROTOCOL': 57, 'SIZE': 23564}, {'IP': 17, 'PORT': 970, 'PROTOCOL': 65, 'SIZE': 47430}, {'IP': 17, 'PORT': 115, 'PROTOCOL': 99, 'SIZE': 10220}, {'IP': 17, 'PORT': 3911, 'PROTOCOL': 44, 'SIZE': 48737}, {'IP': 17, 'PORT': 3845, 'PROTOCOL': 12, 'SIZE': 6842}, {'IP': 17, 'PORT': 2585, 'PROTOCOL': 21, 'SIZE': 20596}, {'IP': 17, 'PORT': 3329, 'PROTOCOL': 33, 'SIZE': 49465}, {'IP': 17, 'PORT': 365, 'PROTOCOL': 55, 'SIZE': 18099}, {'IP': 17, 'PORT': 3235, 'PROTOCOL': 71, 'SIZE': 64332}, {'IP': 17, 'PORT': 1483, 'PROTOCOL': 92, 'SIZE': 52032}, {'IP': 17, 'PORT': 1538, 'PROTOCOL': 77, 'SIZE': 25929}, {'IP': 17, 'PORT': 3809, 'PROTOCOL': 32, 'SIZE': 60242}, {'IP': 17, 'PORT': 1747, 'PROTOCOL': 77, 'SIZE': 28167}, {'IP': 17, 'PORT': 263, 'PROTOCOL': 23, 'SIZE': 38267}, {'IP': 17, 'PORT': 1214, 'PROTOCOL': 35, 'SIZE': 51022}, {'IP': 17, 'PORT': 3457, 'PROTOCOL': 90, 'SIZE': 13522}, {'IP': 17, 'PORT': 520, 'PROTOCOL': 91, 'SIZE': 40648}, {'IP': 17, 'PORT': 2168, 'PROTOCOL': 76, 'SIZE': 15398}, {'IP': 17, 'PORT': 1078, 'PROTOCOL': 33, 'SIZE': 56665}, {'IP': 17, 'PORT': 2309, 'PROTOCOL': 50, 'SIZE': 743}, {'IP': 17, 'PORT': 1040, 'PROTOCOL': 91, 'SIZE': 57675}, {'IP': 17, 'PORT': 106, 'PROTOCOL': 55, 'SIZE': 19790}, {'IP': 17, 'PORT': 3970, 'PROTOCOL': 98, 'SIZE': 30465}, {'IP': 17, 'PORT': 1349, 'PROTOCOL': 71, 'SIZE': 4383}, {'IP': 17, 'PORT': 2678, 'PROTOCOL': 83, 'SIZE': 53548}, {'IP': 17, 'PORT': 2677, 'PROTOCOL': 63, 'SIZE': 59610}, {'IP': 17, 'PORT': 2809, 'PROTOCOL': 38, 'SIZE': 1952}, {'IP': 17, 'PORT': 3664, 'PROTOCOL': 48, 'SIZE': 50326}, {'IP': 17, 'PORT': 3354, 'PROTOCOL': 47, 'SIZE': 23818}, {'IP': 17, 'PORT': 3399, 'PROTOCOL': 71, 'SIZE': 21989}, {'IP': 17, 'PORT': 3939, 'PROTOCOL': 93, 'SIZE': 1071}, {'IP': 17, 'PORT': 763, 'PROTOCOL': 12, 'SIZE': 22179}, {'IP': 17, 'PORT': 1733, 'PROTOCOL': 52, 'SIZE': 63222}, {'IP': 17, 'PORT': 3779, 'PROTOCOL': 31, 'SIZE': 8198}, {'IP': 17, 'PORT': 304, 'PROTOCOL': 60, 'SIZE': 45641}, {'IP': 17, 'PORT': 3342, 'PROTOCOL': 4, 'SIZE': 63695}, {'IP': 17, 'PORT': 2231, 'PROTOCOL': 85, 'SIZE': 44451}, {'IP': 17, 'PORT': 412, 'PROTOCOL': 73, 'SIZE': 1419}, {'IP': 17, 'PORT': 2068, 'PROTOCOL': 41, 'SIZE': 40269}, {'IP': 17, 'PORT': 2251, 'PROTOCOL': 23, 'SIZE': 32100}, {'IP': 17, 'PORT': 203, 'PROTOCOL': 21, 'SIZE': 30536}, {'IP': 17, 'PORT': 3851, 'PROTOCOL': 32, 'SIZE': 47072}, {'IP': 17, 'PORT': 2899, 'PROTOCOL': 88, 'SIZE': 9422}, {'IP': 17, 'PORT': 2686, 'PROTOCOL': 90, 'SIZE': 50962}, {'IP': 17, 'PORT': 3179, 'PROTOCOL': 24, 'SIZE': 40684}, {'IP': 17, 'PORT': 2629, 'PROTOCOL': 79, 'SIZE': 6598}, {'IP': 17, 'PORT': 658, 'PROTOCOL': 60, 'SIZE': 61026}, {'IP': 17, 'PORT': 313, 'PROTOCOL': 24, 'SIZE': 46183}, {'IP': 17, 'PORT': 3097, 'PROTOCOL': 48, 'SIZE': 12556}, {'IP': 17, 'PORT': 3765, 'PROTOCOL': 20, 'SIZE': 9276}, {'IP': 17, 'PORT': 2157, 'PROTOCOL': 19, 'SIZE': 2011}, {'IP': 17, 'PORT': 600, 'PROTOCOL': 37, 'SIZE': 36583}, {'IP': 17, 'PORT': 3106, 'PROTOCOL': 20, 'SIZE': 14186}, {'IP': 17, 'PORT': 2371, 'PROTOCOL': 42, 'SIZE': 13672}, {'IP': 17, 'PORT': 927, 'PROTOCOL': 62, 'SIZE': 14603}, {'IP': 17, 'PORT': 2335, 'PROTOCOL': 47, 'SIZE': 13431}]\n"
     ]
    }
   ],
   "source": [
    "class Packet_Generator():\n",
    "    def __init__(self, min_ip=0, max_ip=2000,\n",
    "                 min_port=0, max_port=4000,\n",
    "                 min_protocol=0, max_protocol=100,\n",
    "                 min_size=0, max_size=2**16 - 1,\n",
    "                 min_rate=0, max_rate=100):\n",
    "        \n",
    "        self.packet = Dict({\n",
    "            \"IP\":  Box(low=min_ip, high=max_ip, shape=(), dtype=int),\n",
    "            \"PORT\":  Box(low=min_port, high=max_port, shape=(), dtype=int),\n",
    "            \"PROTOCOL\":  Box(low=min_protocol, high=max_protocol, shape=(), dtype=int),\n",
    "            \"SIZE\":  Box(low=min_size, high=max_size, shape=(), dtype=int)\n",
    "        })\n",
    "        self.min_rate: int = min_rate\n",
    "        self.max_rate: int = max_rate\n",
    "\n",
    "    def generate_packet(self):\n",
    "        return self.packet.sample()\n",
    "\n",
    "    def generate_packets(self):\n",
    "        num_packets: int = np.random.randint(self.min_rate, self.max_rate)\n",
    "        return [self.generate_packet() for _ in range(num_packets)]\n",
    "\n",
    "\n",
    "class DOS_Packet_Generator(Packet_Generator):\n",
    "    def __init__(self,\n",
    "                 min_ip=0, max_ip=2000,\n",
    "                 min_port=0, max_port=4000,\n",
    "                 min_protocol=0, max_protocol=100,\n",
    "                 min_size=0, max_size=2**16 - 1,\n",
    "                 min_rate=10, max_rate=100):\n",
    "        \n",
    "        ip = np.random.randint(min_ip, max_ip)\n",
    "        super().__init__(ip, ip,\n",
    "                         min_port, max_port,\n",
    "                         min_protocol, max_protocol,\n",
    "                         min_size, max_size,\n",
    "                         min_rate, max_rate)\n",
    "\n",
    "\n",
    "class DDOS_Packet_Generator(Packet_Generator):\n",
    "    def __init__(self,\n",
    "                 min_ip=0, max_ip=2000,\n",
    "                 min_port=0, max_port=4000,\n",
    "                 min_protocol=0, max_protocol=100,\n",
    "                 min_size=2**10, max_size=2**16 - 1,\n",
    "                 min_rate=100, max_rate=1000):\n",
    "        \n",
    "        super().__init__(min_ip, max_ip,\n",
    "                         min_port, max_port,\n",
    "                         min_protocol, max_protocol,\n",
    "                         min_size, max_size,\n",
    "                         min_rate, max_rate)\n",
    "\n",
    "\n",
    "class PacketAttack(Enum):\n",
    "    @staticmethod\n",
    "    def new_set(description, weight, class_ref):\n",
    "        return {\n",
    "            \"Description\": description,\n",
    "            \"weight\": weight,\n",
    "            \"class\": class_ref\n",
    "        }\n",
    "\n",
    "    @staticmethod\n",
    "    def not_implemented():\n",
    "        raise NotImplementedError(f\"Class not implemented\")\n",
    "\n",
    "    @classmethod\n",
    "    @cache\n",
    "    def weights(cls):\n",
    "        attack_weights = []\n",
    "        for attack in PacketAttack:\n",
    "            attack_weights.append(attack.value[\"weight\"])\n",
    "        return np.array(attack_weights)\n",
    "    \n",
    "    # ----ENUM VALUES----\n",
    "    DOS = new_set(\"Denial of Service\", 1.0, DOS_Packet_Generator)\n",
    "    DDOS = new_set(\"Distributed Denial of Service\", 2.0, DDOS_Packet_Generator)\n",
    "\n",
    "dos_gen = DOS_Packet_Generator()\n",
    "\n",
    "print(dos_gen.generate_packets())"
   ]
  },
  {
   "cell_type": "code",
   "execution_count": 7,
   "metadata": {},
   "outputs": [],
   "source": [
    "class Acciones(Enum):\n",
    "    REENVIAR = 0\n",
    "    DESCARTAR = 2\n",
    "\n",
    "\n",
    "class RouterEnv(gym.Env):\n",
    "\n",
    "    def __init__(self, max_len=10, seed: Optional[int] = None):\n",
    "        super(RouterEnv, self).__init__()\n",
    "\n",
    "        self.max_len: int = max_len\n",
    "        self.queue = deque(maxlen=max_len)\n",
    "        self.rate = 5  \n",
    "        self.attack_probability = 0.1  \n",
    "        self.step_durations = []\n",
    "\n",
    "        "
   ]
  }
 ],
 "metadata": {
  "kernelspec": {
   "display_name": ".venv",
   "language": "python",
   "name": "python3"
  },
  "language_info": {
   "codemirror_mode": {
    "name": "ipython",
    "version": 3
   },
   "file_extension": ".py",
   "mimetype": "text/x-python",
   "name": "python",
   "nbconvert_exporter": "python",
   "pygments_lexer": "ipython3",
   "version": "3.12.6"
  }
 },
 "nbformat": 4,
 "nbformat_minor": 2
}
