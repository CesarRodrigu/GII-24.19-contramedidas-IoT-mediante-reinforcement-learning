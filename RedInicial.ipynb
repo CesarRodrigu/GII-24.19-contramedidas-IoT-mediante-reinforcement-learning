{
 "cells": [
  {
   "cell_type": "markdown",
   "metadata": {},
   "source": [
    "# Red Inicial"
   ]
  },
  {
   "cell_type": "markdown",
   "metadata": {},
   "source": [
    "## Imports"
   ]
  },
  {
   "cell_type": "code",
   "execution_count": 1,
   "metadata": {},
   "outputs": [],
   "source": [
    "from enum import Enum\n",
    "from functools import cache\n",
    "\n",
    "import numpy as np\n",
    "from gymnasium.spaces import Box, Dict"
   ]
  },
  {
   "cell_type": "markdown",
   "metadata": {},
   "source": [
    "## Clases y Funciones"
   ]
  },
  {
   "cell_type": "code",
   "execution_count": 13,
   "metadata": {},
   "outputs": [
    {
     "name": "stdout",
     "output_type": "stream",
     "text": [
      "[{'IP': 1310, 'PORT': 3136, 'PROTOCOL': 71, 'SIZE': 104}, {'IP': 1310, 'PORT': 3092, 'PROTOCOL': 19, 'SIZE': 37885}, {'IP': 1310, 'PORT': 766, 'PROTOCOL': 20, 'SIZE': 10866}, {'IP': 1310, 'PORT': 1940, 'PROTOCOL': 50, 'SIZE': 37074}, {'IP': 1310, 'PORT': 2521, 'PROTOCOL': 8, 'SIZE': 26093}, {'IP': 1310, 'PORT': 1946, 'PROTOCOL': 30, 'SIZE': 32441}, {'IP': 1310, 'PORT': 246, 'PROTOCOL': 50, 'SIZE': 10559}, {'IP': 1310, 'PORT': 2835, 'PROTOCOL': 67, 'SIZE': 59483}, {'IP': 1310, 'PORT': 2069, 'PROTOCOL': 45, 'SIZE': 4260}, {'IP': 1310, 'PORT': 1255, 'PROTOCOL': 71, 'SIZE': 63407}, {'IP': 1310, 'PORT': 3871, 'PROTOCOL': 63, 'SIZE': 43773}, {'IP': 1310, 'PORT': 2322, 'PROTOCOL': 78, 'SIZE': 43852}, {'IP': 1310, 'PORT': 2702, 'PROTOCOL': 98, 'SIZE': 21705}, {'IP': 1310, 'PORT': 2715, 'PROTOCOL': 74, 'SIZE': 12400}, {'IP': 1310, 'PORT': 1112, 'PROTOCOL': 97, 'SIZE': 53184}, {'IP': 1310, 'PORT': 867, 'PROTOCOL': 33, 'SIZE': 4576}, {'IP': 1310, 'PORT': 1181, 'PROTOCOL': 76, 'SIZE': 4968}, {'IP': 1310, 'PORT': 3332, 'PROTOCOL': 45, 'SIZE': 2870}, {'IP': 1310, 'PORT': 425, 'PROTOCOL': 15, 'SIZE': 13773}, {'IP': 1310, 'PORT': 1821, 'PROTOCOL': 2, 'SIZE': 60652}, {'IP': 1310, 'PORT': 2450, 'PROTOCOL': 97, 'SIZE': 60643}, {'IP': 1310, 'PORT': 1710, 'PROTOCOL': 68, 'SIZE': 16349}, {'IP': 1310, 'PORT': 972, 'PROTOCOL': 17, 'SIZE': 55566}, {'IP': 1310, 'PORT': 3268, 'PROTOCOL': 55, 'SIZE': 16631}, {'IP': 1310, 'PORT': 1154, 'PROTOCOL': 49, 'SIZE': 62642}, {'IP': 1310, 'PORT': 599, 'PROTOCOL': 61, 'SIZE': 30602}, {'IP': 1310, 'PORT': 435, 'PROTOCOL': 44, 'SIZE': 11029}, {'IP': 1310, 'PORT': 485, 'PROTOCOL': 5, 'SIZE': 9246}, {'IP': 1310, 'PORT': 359, 'PROTOCOL': 38, 'SIZE': 8530}, {'IP': 1310, 'PORT': 3367, 'PROTOCOL': 9, 'SIZE': 59489}, {'IP': 1310, 'PORT': 2385, 'PROTOCOL': 11, 'SIZE': 4532}, {'IP': 1310, 'PORT': 903, 'PROTOCOL': 98, 'SIZE': 11654}, {'IP': 1310, 'PORT': 80, 'PROTOCOL': 15, 'SIZE': 58065}, {'IP': 1310, 'PORT': 2740, 'PROTOCOL': 96, 'SIZE': 7635}, {'IP': 1310, 'PORT': 3412, 'PROTOCOL': 6, 'SIZE': 38451}, {'IP': 1310, 'PORT': 2218, 'PROTOCOL': 59, 'SIZE': 16277}, {'IP': 1310, 'PORT': 2253, 'PROTOCOL': 20, 'SIZE': 37751}, {'IP': 1310, 'PORT': 2579, 'PROTOCOL': 82, 'SIZE': 32623}, {'IP': 1310, 'PORT': 3448, 'PROTOCOL': 55, 'SIZE': 62326}, {'IP': 1310, 'PORT': 2629, 'PROTOCOL': 67, 'SIZE': 37000}, {'IP': 1310, 'PORT': 1067, 'PROTOCOL': 79, 'SIZE': 48167}, {'IP': 1310, 'PORT': 602, 'PROTOCOL': 69, 'SIZE': 1662}, {'IP': 1310, 'PORT': 1003, 'PROTOCOL': 43, 'SIZE': 21409}, {'IP': 1310, 'PORT': 1111, 'PROTOCOL': 86, 'SIZE': 43228}, {'IP': 1310, 'PORT': 265, 'PROTOCOL': 87, 'SIZE': 923}, {'IP': 1310, 'PORT': 1553, 'PROTOCOL': 83, 'SIZE': 54044}, {'IP': 1310, 'PORT': 164, 'PROTOCOL': 7, 'SIZE': 28611}, {'IP': 1310, 'PORT': 2085, 'PROTOCOL': 38, 'SIZE': 57767}, {'IP': 1310, 'PORT': 2558, 'PROTOCOL': 38, 'SIZE': 47098}, {'IP': 1310, 'PORT': 2317, 'PROTOCOL': 92, 'SIZE': 30316}, {'IP': 1310, 'PORT': 3507, 'PROTOCOL': 34, 'SIZE': 56816}, {'IP': 1310, 'PORT': 205, 'PROTOCOL': 93, 'SIZE': 58705}, {'IP': 1310, 'PORT': 1962, 'PROTOCOL': 42, 'SIZE': 13461}, {'IP': 1310, 'PORT': 2295, 'PROTOCOL': 20, 'SIZE': 56044}, {'IP': 1310, 'PORT': 468, 'PROTOCOL': 93, 'SIZE': 24687}, {'IP': 1310, 'PORT': 1608, 'PROTOCOL': 94, 'SIZE': 7426}, {'IP': 1310, 'PORT': 1691, 'PROTOCOL': 41, 'SIZE': 60909}, {'IP': 1310, 'PORT': 2340, 'PROTOCOL': 52, 'SIZE': 45787}, {'IP': 1310, 'PORT': 2489, 'PROTOCOL': 74, 'SIZE': 21796}, {'IP': 1310, 'PORT': 1092, 'PROTOCOL': 22, 'SIZE': 16808}, {'IP': 1310, 'PORT': 982, 'PROTOCOL': 66, 'SIZE': 51046}, {'IP': 1310, 'PORT': 3938, 'PROTOCOL': 17, 'SIZE': 18369}, {'IP': 1310, 'PORT': 80, 'PROTOCOL': 82, 'SIZE': 55552}, {'IP': 1310, 'PORT': 2407, 'PROTOCOL': 18, 'SIZE': 63789}, {'IP': 1310, 'PORT': 2825, 'PROTOCOL': 83, 'SIZE': 36874}, {'IP': 1310, 'PORT': 590, 'PROTOCOL': 88, 'SIZE': 44799}, {'IP': 1310, 'PORT': 2294, 'PROTOCOL': 79, 'SIZE': 62035}, {'IP': 1310, 'PORT': 3190, 'PROTOCOL': 97, 'SIZE': 32200}, {'IP': 1310, 'PORT': 1359, 'PROTOCOL': 13, 'SIZE': 13089}, {'IP': 1310, 'PORT': 2439, 'PROTOCOL': 31, 'SIZE': 32764}, {'IP': 1310, 'PORT': 2301, 'PROTOCOL': 23, 'SIZE': 64269}, {'IP': 1310, 'PORT': 1322, 'PROTOCOL': 44, 'SIZE': 24086}, {'IP': 1310, 'PORT': 2542, 'PROTOCOL': 15, 'SIZE': 39216}, {'IP': 1310, 'PORT': 1478, 'PROTOCOL': 64, 'SIZE': 36046}, {'IP': 1310, 'PORT': 532, 'PROTOCOL': 75, 'SIZE': 51695}, {'IP': 1310, 'PORT': 2736, 'PROTOCOL': 22, 'SIZE': 16019}, {'IP': 1310, 'PORT': 372, 'PROTOCOL': 100, 'SIZE': 56459}]\n"
     ]
    }
   ],
   "source": [
    "class Packet_Generator():\n",
    "    def __init__(self, min_ip=0, max_ip=2000,\n",
    "                 min_port=0, max_port=4000,\n",
    "                 min_protocol=0, max_protocol=100,\n",
    "                 min_size=0, max_size=2**16 - 1,\n",
    "                 min_rate=0, max_rate=100):\n",
    "        \n",
    "        self.packet = Dict({\n",
    "            \"IP\":  Box(low=min_ip, high=max_ip, shape=(), dtype=int),\n",
    "            \"PORT\":  Box(low=min_port, high=max_port, shape=(), dtype=int),\n",
    "            \"PROTOCOL\":  Box(low=min_protocol, high=max_protocol, shape=(), dtype=int),\n",
    "            \"SIZE\":  Box(low=min_size, high=max_size, shape=(), dtype=int)\n",
    "        })\n",
    "        self.min_rate: int = min_rate\n",
    "        self.max_rate: int = max_rate\n",
    "\n",
    "    def generate_packet(self):\n",
    "        return self.packet.sample()\n",
    "\n",
    "    def generate_packets(self):\n",
    "        num_packets: int = np.random.randint(self.min_rate, self.max_rate)\n",
    "        return [self.generate_packet() for _ in range(num_packets)]\n",
    "\n",
    "\n",
    "class DOS_Packet_Generator(Packet_Generator):\n",
    "    def __init__(self,\n",
    "                 min_ip=0, max_ip=2000,\n",
    "                 min_port=0, max_port=4000,\n",
    "                 min_protocol=0, max_protocol=100,\n",
    "                 min_size=0, max_size=2**16 - 1,\n",
    "                 min_rate=10, max_rate=100):\n",
    "        \n",
    "        ip = np.random.randint(min_ip, max_ip)\n",
    "        super().__init__(ip, ip,\n",
    "                         min_port, max_port,\n",
    "                         min_protocol, max_protocol,\n",
    "                         min_size, max_size,\n",
    "                         min_rate, max_rate)\n",
    "\n",
    "\n",
    "class DDOS_Packet_Generator(Packet_Generator):\n",
    "    def __init__(self,\n",
    "                 min_ip=0, max_ip=2000,\n",
    "                 min_port=0, max_port=4000,\n",
    "                 min_protocol=0, max_protocol=100,\n",
    "                 min_size=2**10, max_size=2**16 - 1,\n",
    "                 min_rate=100, max_rate=1000):\n",
    "        \n",
    "        super().__init__(min_ip, max_ip,\n",
    "                         min_port, max_port,\n",
    "                         min_protocol, max_protocol,\n",
    "                         min_size, max_size,\n",
    "                         min_rate, max_rate)\n",
    "\n",
    "\n",
    "class PacketAttack(Enum):\n",
    "    @staticmethod\n",
    "    def new_set(description, weight, class_ref):\n",
    "        return {\n",
    "            \"Description\": description,\n",
    "            \"weight\": weight,\n",
    "            \"class\": class_ref\n",
    "        }\n",
    "\n",
    "    @staticmethod\n",
    "    def not_implemented():\n",
    "        raise NotImplementedError(f\"Class not implemented\")\n",
    "\n",
    "    @classmethod\n",
    "    @cache\n",
    "    def weights(cls):\n",
    "        attack_weights = []\n",
    "        for attack in PacketAttack:\n",
    "            attack_weights.append(attack.value[\"weight\"])\n",
    "        return np.array(attack_weights)\n",
    "    \n",
    "    # ----ENUM VALUES----\n",
    "    DOS = new_set(\"Denial of Service\", 1.0, DOS_Packet_Generator)\n",
    "    DDOS = new_set(\"Distributed Denial of Service\", 2.0, DDOS_Packet_Generator)\n",
    "\n",
    "dos_gen = DOS_Packet_Generator()\n",
    "\n",
    "print(dos_gen.generate_packets())"
   ]
  }
 ],
 "metadata": {
  "kernelspec": {
   "display_name": ".venv",
   "language": "python",
   "name": "python3"
  },
  "language_info": {
   "codemirror_mode": {
    "name": "ipython",
    "version": 3
   },
   "file_extension": ".py",
   "mimetype": "text/x-python",
   "name": "python",
   "nbconvert_exporter": "python",
   "pygments_lexer": "ipython3",
   "version": "3.12.6"
  }
 },
 "nbformat": 4,
 "nbformat_minor": 2
}
