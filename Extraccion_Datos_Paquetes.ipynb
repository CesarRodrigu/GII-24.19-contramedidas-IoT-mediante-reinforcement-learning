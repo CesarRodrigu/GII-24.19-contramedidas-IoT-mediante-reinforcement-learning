{
 "cells": [
  {
   "cell_type": "code",
   "execution_count": 1,
   "metadata": {},
   "outputs": [],
   "source": [
    "import pandas as pd\n",
    "from pandas import DataFrame\n",
    "from pandas.core.frame import DataFrame\n",
    "\n",
    "import os"
   ]
  },
  {
   "cell_type": "code",
   "execution_count": 2,
   "metadata": {},
   "outputs": [
    {
     "data": {
      "text/html": [
       "<div>\n",
       "<style scoped>\n",
       "    .dataframe tbody tr th:only-of-type {\n",
       "        vertical-align: middle;\n",
       "    }\n",
       "\n",
       "    .dataframe tbody tr th {\n",
       "        vertical-align: top;\n",
       "    }\n",
       "\n",
       "    .dataframe thead th {\n",
       "        text-align: right;\n",
       "    }\n",
       "</style>\n",
       "<table border=\"1\" class=\"dataframe\">\n",
       "  <thead>\n",
       "    <tr style=\"text-align: right;\">\n",
       "      <th></th>\n",
       "      <th>prefix</th>\n",
       "      <th>filenames</th>\n",
       "    </tr>\n",
       "  </thead>\n",
       "  <tbody>\n",
       "    <tr>\n",
       "      <th>0</th>\n",
       "      <td>flows_aggregated</td>\n",
       "      <td>[flows_aggregated_Recon-OSScan.csv]</td>\n",
       "    </tr>\n",
       "    <tr>\n",
       "      <th>1</th>\n",
       "      <td>flows_aggregated_BenignTraffic</td>\n",
       "      <td>[flows_aggregated_BenignTraffic_0.csv, flows_a...</td>\n",
       "    </tr>\n",
       "    <tr>\n",
       "      <th>2</th>\n",
       "      <td>flows_aggregated_DDoS-HTTP</td>\n",
       "      <td>[flows_aggregated_DDoS-HTTP_Flood.csv]</td>\n",
       "    </tr>\n",
       "    <tr>\n",
       "      <th>3</th>\n",
       "      <td>flows_aggregated_DDoS-SYN</td>\n",
       "      <td>[flows_aggregated_DDoS-SYN_0.csv, flows_aggreg...</td>\n",
       "    </tr>\n",
       "    <tr>\n",
       "      <th>4</th>\n",
       "      <td>flows_aggregated_DoS-TCP_Flood</td>\n",
       "      <td>[flows_aggregated_DoS-TCP_Flood_0.csv, flows_a...</td>\n",
       "    </tr>\n",
       "    <tr>\n",
       "      <th>5</th>\n",
       "      <td>flows_aggregated_Recon</td>\n",
       "      <td>[flows_aggregated_Recon_PortScan.csv]</td>\n",
       "    </tr>\n",
       "  </tbody>\n",
       "</table>\n",
       "</div>"
      ],
      "text/plain": [
       "                           prefix  \\\n",
       "0                flows_aggregated   \n",
       "1  flows_aggregated_BenignTraffic   \n",
       "2      flows_aggregated_DDoS-HTTP   \n",
       "3       flows_aggregated_DDoS-SYN   \n",
       "4  flows_aggregated_DoS-TCP_Flood   \n",
       "5          flows_aggregated_Recon   \n",
       "\n",
       "                                           filenames  \n",
       "0                [flows_aggregated_Recon-OSScan.csv]  \n",
       "1  [flows_aggregated_BenignTraffic_0.csv, flows_a...  \n",
       "2             [flows_aggregated_DDoS-HTTP_Flood.csv]  \n",
       "3  [flows_aggregated_DDoS-SYN_0.csv, flows_aggreg...  \n",
       "4  [flows_aggregated_DoS-TCP_Flood_0.csv, flows_a...  \n",
       "5              [flows_aggregated_Recon_PortScan.csv]  "
      ]
     },
     "execution_count": 2,
     "metadata": {},
     "output_type": "execute_result"
    }
   ],
   "source": [
    "CARPETA = r'C:\\Users\\cesar\\OneDrive - Universidad de Burgos\\TFG\\Repo\\CIC_IOT-20250124T124300Z-001\\CIC_IOT'\n",
    "\n",
    "# Listar los archivos de la carpeta\n",
    "df = DataFrame(os.listdir(CARPETA), columns=['filenames'])\n",
    "\n",
    "df['prefix'] = df['filenames'].apply(lambda x: x.rsplit('_', 1)[0])\n",
    "# Agrupar los archivos por tipo de ataque\n",
    "df_grouped = df.groupby('prefix')['filenames'].apply(list).reset_index()\n",
    "\n",
    "df_grouped"
   ]
  },
  {
   "cell_type": "code",
   "execution_count": 39,
   "metadata": {},
   "outputs": [
    {
     "name": "stdout",
     "output_type": "stream",
     "text": [
      "['flows_aggregated_BenignTraffic_0.csv', 'flows_aggregated_BenignTraffic_1.csv', 'flows_aggregated_BenignTraffic_2.csv']\n",
      "Se envia una media de 59.3 paquetes por segundo con un tamaño medio de 205.7 bytes\n"
     ]
    }
   ],
   "source": [
    "def filter_filenames(df, text):\n",
    "    return df[df['prefix'].str.contains(text)]['filenames'].iloc[0]\n",
    "\n",
    "\n",
    "filtered_filenames = filter_filenames(df_grouped, 'Benign') \n",
    "print(filtered_filenames)\n",
    "\n",
    "tipo='_2'\n",
    "tiempo_flujo=30 #Segundos\n",
    "dfs: list[DataFrame] = [pd.read_csv(os.path.join(CARPETA, file),\n",
    "                                    sep=';', header=0, index_col=False,\n",
    "                                    usecols=lambda x: x.endswith(tipo) and\n",
    "                                    (x.startswith('num_flows') or x.startswith('packets_forward_mean') or x.startswith('avg_pkt_size_mean')))\n",
    "                        for file in filtered_filenames]\n",
    "\n",
    "df_combined: DataFrame = pd.concat(dfs, ignore_index=True)\n",
    "#df_combined.mean().rename('Mean Values').to_frame().T\n",
    "\n",
    "pack_sec=((df_combined['num_flows'+tipo]*df_combined['packets_forward_mean'+tipo])/tiempo_flujo).mean()\n",
    "tam_paquetes_sec=(df_combined['avg_pkt_size_mean'+tipo]).mean()\n",
    "\n",
    "print(f'Se envia una media de {pack_sec:.1f} paquetes por segundo con un tamaño medio de {tam_paquetes_sec:.1f} bytes')"
   ]
  }
 ],
 "metadata": {
  "kernelspec": {
   "display_name": ".venv",
   "language": "python",
   "name": "python3"
  },
  "language_info": {
   "codemirror_mode": {
    "name": "ipython",
    "version": 3
   },
   "file_extension": ".py",
   "mimetype": "text/x-python",
   "name": "python",
   "nbconvert_exporter": "python",
   "pygments_lexer": "ipython3",
   "version": "3.12.6"
  }
 },
 "nbformat": 4,
 "nbformat_minor": 2
}
