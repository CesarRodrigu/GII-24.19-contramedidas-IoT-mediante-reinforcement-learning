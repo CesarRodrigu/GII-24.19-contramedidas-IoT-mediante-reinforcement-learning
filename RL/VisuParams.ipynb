{
 "cells": [
  {
   "cell_type": "code",
   "execution_count": 1,
   "metadata": {},
   "outputs": [
    {
     "name": "stdout",
     "output_type": "stream",
     "text": [
      "Cargado a las 2025-03-02 16:33:50.546016\n"
     ]
    },
    {
     "data": {
      "application/vnd.jupyter.widget-view+json": {
       "model_id": "53a16091d0e54b58ac17cbc3ead3db70",
       "version_major": 2,
       "version_minor": 0
      },
      "text/plain": [
       "interactive(children=(IntSlider(value=8, description='descartados_range', max=20, min=1), IntSlider(value=3, d…"
      ]
     },
     "metadata": {},
     "output_type": "display_data"
    },
    {
     "data": {
      "text/plain": [
       "<function __main__.plot_reward(descartados_range=8, num=3)>"
      ]
     },
     "execution_count": 1,
     "metadata": {},
     "output_type": "execute_result"
    }
   ],
   "source": [
    "import matplotlib.pyplot as plt\n",
    "import numpy as np\n",
    "from custom_env.actions import Acciones\n",
    "from ipywidgets import interact\n",
    "\n",
    "# Definir la función de recompensa\n",
    "\n",
    "\n",
    "def compute_reward(actual: float, descartados: int, action: Acciones) -> float:\n",
    "\n",
    "    reward = 0.0\n",
    "    if descartados > 0:\n",
    "        reward -= (descartados**2) * 1.0\n",
    "    else:\n",
    "        reward += 60.0\n",
    "\n",
    "    reward += (1-actual)*200\n",
    "\n",
    "    match action:\n",
    "        case Acciones.PERMITIR:\n",
    "            reward += 5.0\n",
    "        case Acciones.DENEGAR:\n",
    "            reward -= 2.0\n",
    "        case _:\n",
    "            reward += 0.0\n",
    "\n",
    "    return reward\n",
    "\n",
    "    reward_values: float = compute_reward(\n",
    "        actual, descartados, Acciones.PERMITIR)\n",
    "\n",
    "\n",
    "\"\"\"\n",
    "def create_plot(axes, fila, valores,recompensas, accion:Acciones):\n",
    "    col: int = Acciones.action_to_int(accion)\n",
    "    axes[fila][col].plot(valores, recompensas,\n",
    "                         label=f'Descartados')\n",
    "    axes[fila][col].set_xlabel('Ocupación actual')\n",
    "    axes[fila][col].set_ylabel('Recompensa (reward)')\n",
    "    axes[fila][col].set_title(f'{accion.name} con descartados, ocupacion')\n",
    "    axes[fila][col].legend()\n",
    "\"\"\"\n",
    "\n",
    "\n",
    "def create_plot(axes, fila, actual, valores, recompensas, accion: Acciones):\n",
    "    col: int = Acciones.action_to_int(accion)\n",
    "    axes[fila, col].plot(valores, recompensas, label='Reward')\n",
    "    axes[fila, col].set_xlabel('Descartados')\n",
    "    axes[fila, col].set_ylabel('Recompensa')\n",
    "    axes[fila, col].set_title(f'{accion.name} - Reward - {actual:.2f}')\n",
    "    axes[fila, col].legend()\n",
    "    axes[fila, col].grid(True)\n",
    "\n",
    "\n",
    "def plot_reward(descartados_range=8, num=3):\n",
    "    actual_values = np.linspace(0, 1, num)\n",
    "    descartados_values = np.arange(0, descartados_range + 1)\n",
    "    # assert actual_values.shape == descartados_values.shape\n",
    "\n",
    "    fig, axes = plt.subplots(num, 2, figsize=(10, num * 3))\n",
    "    axes = np.atleast_2d(axes)  # Asegurarse de que sea una matriz 2D\n",
    "\n",
    "    for i, actual in enumerate(actual_values):\n",
    "        recompensas_permitir: list[float] = [compute_reward(\n",
    "            actual, d, Acciones.PERMITIR) for d in descartados_values]\n",
    "        recompensas_denegar: list[float] = [compute_reward(\n",
    "            actual, d, Acciones.DENEGAR) for d in descartados_values]\n",
    "        create_plot(axes, i, actual, descartados_values,\n",
    "                    recompensas_permitir, Acciones.PERMITIR)\n",
    "        create_plot(axes, i, actual, descartados_values,\n",
    "                    recompensas_denegar, Acciones.DENEGAR)\n",
    "\n",
    "    plt.tight_layout()\n",
    "    plt.show()\n",
    "\n",
    "\n",
    "# Crear la interactividad\n",
    "interact(plot_reward, descartados_range=(1, 20, 1), num=(2, 10, 1))"
   ]
  },
  {
   "cell_type": "code",
   "execution_count": 43,
   "metadata": {},
   "outputs": [
    {
     "data": {
      "application/vnd.jupyter.widget-view+json": {
       "model_id": "e7c0e38a0e3e46c6a9d0e5aaa0a8f6ad",
       "version_major": 2,
       "version_minor": 0
      },
      "text/plain": [
       "interactive(children=(IntSlider(value=0, description='coef_actual', min=-100, step=5), IntSlider(value=96, des…"
      ]
     },
     "metadata": {},
     "output_type": "display_data"
    },
    {
     "data": {
      "text/plain": [
       "<function __main__.generate_plot(coef_actual, coef_descartados, num_descartados=2)>"
      ]
     },
     "execution_count": 43,
     "metadata": {},
     "output_type": "execute_result"
    }
   ],
   "source": [
    "from matplotlib import axes\n",
    "from matplotlib.lines import Line2D\n",
    "\n",
    "\n",
    "def re_ocu(actual: float, coef=55) -> float:\n",
    "    reward = 0.0\n",
    "    reward += (1-actual)*coef\n",
    "    return reward\n",
    "\n",
    "\n",
    "def re_desca(descartados: float, coef=1.0) -> float:\n",
    "    reward = 0.0\n",
    "    if descartados > 0:\n",
    "        reward -= (descartados**2) * coef\n",
    "    else:\n",
    "        reward += 60.0\n",
    "    return reward\n",
    "\n",
    "\n",
    "def re_accion(action: Acciones) -> float:\n",
    "    reward = 0.0\n",
    "    match action:\n",
    "        case Acciones.PERMITIR:\n",
    "            reward += 5.0\n",
    "        case Acciones.DENEGAR:\n",
    "            reward -= 2.0\n",
    "        case _:\n",
    "            reward += 0.0\n",
    "    return reward\n",
    "\n",
    "\n",
    "def plot_subplot(ax: axes._axes.Axes, datos_actual: list[float], recompensa_actual_in: list[float], datos_descartados: list[int], recompensa_descartados_in: list[float], accion: Acciones):\n",
    "\n",
    "    recompensa_actual = list(map(lambda x: x + re_accion(accion), recompensa_actual_in))\n",
    "    recompensa_descartados = list(map(lambda x: x + re_accion(accion), recompensa_descartados_in))\n",
    "\n",
    "\n",
    "    line1: list[Line2D] = ax.plot(datos_actual, recompensa_actual,\n",
    "                            label='Ocupación', color='blue')\n",
    "    \n",
    "    ax.set_xlabel('Ocupación')\n",
    "    ax.set_ylabel('Recompensa')\n",
    "    ax.spines['bottom'].set_color('blue')\n",
    "    ax.xaxis.label.set_color('blue')\n",
    "    ax.tick_params(axis='x', colors='blue')\n",
    "\n",
    "    ax2: axes.Axes = ax.twiny()\n",
    "    line2: Line2D = ax2.plot(\n",
    "        datos_descartados, recompensa_descartados, label='Descartados', color='red')\n",
    "    ax2.set_xlabel('Descartados')\n",
    "    ax2.spines['top'].set_color('red')\n",
    "    ax2.xaxis.label.set_color('red')\n",
    "    ax2.tick_params(axis='x', colors='red')\n",
    "\n",
    "    min_rew: float = min(recompensa_actual + recompensa_descartados)\n",
    "    max_rew: float = max(recompensa_actual + recompensa_descartados)\n",
    "    ax.set_ylim(min_rew, max_rew)\n",
    "    ax2.set_ylim(min_rew, max_rew)\n",
    "\n",
    "    lines: list[Line2D] = [*line1, *line2]\n",
    "    labels: list[object] = [line.get_label() for line in lines]\n",
    "    ax.legend(lines, labels)\n",
    "    ax.set_title(accion.name)\n",
    "\n",
    "\n",
    "def generate_subplots(axes, fila, datos_actual, datos_descartados, recompensa_actual, recompensa_descartados):\n",
    "    plot_subplot(axes[fila, 0], datos_actual, recompensa_actual,\n",
    "                 datos_descartados, recompensa_descartados, Acciones.PERMITIR)\n",
    "    plot_subplot(axes[fila, 1], datos_actual, recompensa_actual,\n",
    "                 datos_descartados, recompensa_descartados, Acciones.DENEGAR)\n",
    "\n",
    "\n",
    "def generate_plot(coef_actual, coef_descartados, num_descartados=2):\n",
    "    datos_actual = np.linspace(0, 1, num_descartados)\n",
    "    datos_descartados = np.arange(0, num_descartados + 1)\n",
    "\n",
    "    recompensa_actual = [re_ocu(a, coef=coef_actual) for a in datos_actual]\n",
    "    recompensa_descartados = [re_desca(d, coef=coef_descartados) for d in datos_descartados]\n",
    "    filas = 1\n",
    "    fig, axes = plt.subplots(1, 2, figsize=(10, filas * 4))\n",
    "    axes = np.atleast_2d(axes)\n",
    "\n",
    "    generate_subplots(axes, 0, datos_actual, datos_descartados,\n",
    "                      recompensa_actual, recompensa_descartados)\n",
    "\n",
    "    plt.tight_layout()\n",
    "    plt.show()\n",
    "\n",
    "\n",
    "interact(generate_plot, coef_actual=(-100, 100, 5),\n",
    "         coef_descartados=(1, 200, 5), num_descartados=(2, 10, 1))"
   ]
  },
  {
   "cell_type": "code",
   "execution_count": 119,
   "metadata": {},
   "outputs": [
    {
     "name": "stdout",
     "output_type": "stream",
     "text": [
      "ValuesView(Dict('Descartados': Box(0, 9223372036854775807, (1,), int64), 'OcupacionCola': Box(0.0, 1.0, (1,), float32)))\n"
     ]
    },
    {
     "data": {
      "text/plain": [
       "{'Descartados': array([0], dtype=int64),\n",
       " 'OcupacionCola': array([0.37670204], dtype=float32)}"
      ]
     },
     "execution_count": 119,
     "metadata": {},
     "output_type": "execute_result"
    }
   ],
   "source": [
    "from gymnasium.spaces import Box, Dict, Discrete\n",
    "\n",
    "observation_space = Dict({\n",
    "            \"OcupacionCola\": Box(low=0, high=1, dtype=np.float32),\n",
    "            \"Descartados\": Box(low=0, high=np.inf, dtype=np.int64),  \n",
    "        })\n",
    "print(observation_space.values())\n",
    "observation_space.sample()"
   ]
  }
 ],
 "metadata": {
  "kernelspec": {
   "display_name": ".venv",
   "language": "python",
   "name": "python3"
  },
  "language_info": {
   "codemirror_mode": {
    "name": "ipython",
    "version": 3
   },
   "file_extension": ".py",
   "mimetype": "text/x-python",
   "name": "python",
   "nbconvert_exporter": "python",
   "pygments_lexer": "ipython3",
   "version": "3.12.6"
  }
 },
 "nbformat": 4,
 "nbformat_minor": 2
}
